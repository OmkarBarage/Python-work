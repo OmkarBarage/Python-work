{
 "cells": [
  {
   "cell_type": "code",
   "execution_count": 1,
   "id": "62fe1338",
   "metadata": {},
   "outputs": [],
   "source": [
    "import pandas as pd \n",
    "import matplotlib.pyplot as plt\n",
    "import numpy as np\n",
    "import seaborn as sns \n",
    "import warnings\n",
    "warnings.filterwarnings('ignore')\n",
    "\n"
   ]
  },
  {
   "cell_type": "code",
   "execution_count": 2,
   "id": "e6508537",
   "metadata": {
    "scrolled": true
   },
   "outputs": [
    {
     "data": {
      "text/html": [
       "<div>\n",
       "<style scoped>\n",
       "    .dataframe tbody tr th:only-of-type {\n",
       "        vertical-align: middle;\n",
       "    }\n",
       "\n",
       "    .dataframe tbody tr th {\n",
       "        vertical-align: top;\n",
       "    }\n",
       "\n",
       "    .dataframe thead th {\n",
       "        text-align: right;\n",
       "    }\n",
       "</style>\n",
       "<table border=\"1\" class=\"dataframe\">\n",
       "  <thead>\n",
       "    <tr style=\"text-align: right;\">\n",
       "      <th></th>\n",
       "      <th>App Name</th>\n",
       "      <th>App Id</th>\n",
       "      <th>Category</th>\n",
       "      <th>Rating</th>\n",
       "      <th>Rating Count</th>\n",
       "      <th>Installs</th>\n",
       "      <th>Minimum Installs</th>\n",
       "      <th>Free</th>\n",
       "      <th>Price</th>\n",
       "      <th>Currency</th>\n",
       "      <th>...</th>\n",
       "      <th>Unnamed: 47</th>\n",
       "      <th>Unnamed: 48</th>\n",
       "      <th>Unnamed: 49</th>\n",
       "      <th>Unnamed: 50</th>\n",
       "      <th>Unnamed: 51</th>\n",
       "      <th>Unnamed: 52</th>\n",
       "      <th>Unnamed: 53</th>\n",
       "      <th>Unnamed: 54</th>\n",
       "      <th>Unnamed: 55</th>\n",
       "      <th>Unnamed: 56</th>\n",
       "    </tr>\n",
       "  </thead>\n",
       "  <tbody>\n",
       "    <tr>\n",
       "      <th>0</th>\n",
       "      <td>Logistics Management</td>\n",
       "      <td>com.eniseistudio.logistics_management</td>\n",
       "      <td>Education</td>\n",
       "      <td>4.090909</td>\n",
       "      <td>66.0</td>\n",
       "      <td>10,000+</td>\n",
       "      <td>10000.0</td>\n",
       "      <td>True</td>\n",
       "      <td>0.0</td>\n",
       "      <td>USD</td>\n",
       "      <td>...</td>\n",
       "      <td>NaN</td>\n",
       "      <td>NaN</td>\n",
       "      <td>NaN</td>\n",
       "      <td>NaN</td>\n",
       "      <td>NaN</td>\n",
       "      <td>NaN</td>\n",
       "      <td>NaN</td>\n",
       "      <td>NaN</td>\n",
       "      <td>NaN</td>\n",
       "      <td>NaN</td>\n",
       "    </tr>\n",
       "    <tr>\n",
       "      <th>1</th>\n",
       "      <td>Estados Unidos Noticias</td>\n",
       "      <td>com.eniseistudio.news.estados_unidos</td>\n",
       "      <td>News &amp; Magazines</td>\n",
       "      <td>4.000000</td>\n",
       "      <td>8.0</td>\n",
       "      <td>1,000+</td>\n",
       "      <td>1000.0</td>\n",
       "      <td>True</td>\n",
       "      <td>0.0</td>\n",
       "      <td>USD</td>\n",
       "      <td>...</td>\n",
       "      <td>NaN</td>\n",
       "      <td>NaN</td>\n",
       "      <td>NaN</td>\n",
       "      <td>NaN</td>\n",
       "      <td>NaN</td>\n",
       "      <td>NaN</td>\n",
       "      <td>NaN</td>\n",
       "      <td>NaN</td>\n",
       "      <td>NaN</td>\n",
       "      <td>NaN</td>\n",
       "    </tr>\n",
       "    <tr>\n",
       "      <th>2</th>\n",
       "      <td>Dental Assistant</td>\n",
       "      <td>com.eniseistudio.dental_assistant</td>\n",
       "      <td>Education</td>\n",
       "      <td>3.866667</td>\n",
       "      <td>15.0</td>\n",
       "      <td>10,000+</td>\n",
       "      <td>10000.0</td>\n",
       "      <td>True</td>\n",
       "      <td>0.0</td>\n",
       "      <td>USD</td>\n",
       "      <td>...</td>\n",
       "      <td>NaN</td>\n",
       "      <td>NaN</td>\n",
       "      <td>NaN</td>\n",
       "      <td>NaN</td>\n",
       "      <td>NaN</td>\n",
       "      <td>NaN</td>\n",
       "      <td>NaN</td>\n",
       "      <td>NaN</td>\n",
       "      <td>NaN</td>\n",
       "      <td>NaN</td>\n",
       "    </tr>\n",
       "    <tr>\n",
       "      <th>3</th>\n",
       "      <td>Medical Assistant</td>\n",
       "      <td>com.eniseistudio.course.medical_assistant</td>\n",
       "      <td>Education</td>\n",
       "      <td>4.000000</td>\n",
       "      <td>18.0</td>\n",
       "      <td>5,000+</td>\n",
       "      <td>5000.0</td>\n",
       "      <td>True</td>\n",
       "      <td>0.0</td>\n",
       "      <td>USD</td>\n",
       "      <td>...</td>\n",
       "      <td>NaN</td>\n",
       "      <td>NaN</td>\n",
       "      <td>NaN</td>\n",
       "      <td>NaN</td>\n",
       "      <td>NaN</td>\n",
       "      <td>NaN</td>\n",
       "      <td>NaN</td>\n",
       "      <td>NaN</td>\n",
       "      <td>NaN</td>\n",
       "      <td>NaN</td>\n",
       "    </tr>\n",
       "    <tr>\n",
       "      <th>4</th>\n",
       "      <td>Business Administration</td>\n",
       "      <td>com.eniseistudio.majors.course.business_admini...</td>\n",
       "      <td>Education</td>\n",
       "      <td>4.023256</td>\n",
       "      <td>86.0</td>\n",
       "      <td>50,000+</td>\n",
       "      <td>50000.0</td>\n",
       "      <td>True</td>\n",
       "      <td>0.0</td>\n",
       "      <td>USD</td>\n",
       "      <td>...</td>\n",
       "      <td>NaN</td>\n",
       "      <td>NaN</td>\n",
       "      <td>NaN</td>\n",
       "      <td>NaN</td>\n",
       "      <td>NaN</td>\n",
       "      <td>NaN</td>\n",
       "      <td>NaN</td>\n",
       "      <td>NaN</td>\n",
       "      <td>NaN</td>\n",
       "      <td>NaN</td>\n",
       "    </tr>\n",
       "    <tr>\n",
       "      <th>...</th>\n",
       "      <td>...</td>\n",
       "      <td>...</td>\n",
       "      <td>...</td>\n",
       "      <td>...</td>\n",
       "      <td>...</td>\n",
       "      <td>...</td>\n",
       "      <td>...</td>\n",
       "      <td>...</td>\n",
       "      <td>...</td>\n",
       "      <td>...</td>\n",
       "      <td>...</td>\n",
       "      <td>...</td>\n",
       "      <td>...</td>\n",
       "      <td>...</td>\n",
       "      <td>...</td>\n",
       "      <td>...</td>\n",
       "      <td>...</td>\n",
       "      <td>...</td>\n",
       "      <td>...</td>\n",
       "      <td>...</td>\n",
       "      <td>...</td>\n",
       "    </tr>\n",
       "    <tr>\n",
       "      <th>450790</th>\n",
       "      <td>Punjabi Keyboard</td>\n",
       "      <td>com.fancy.fontforu.punjabikeyboard</td>\n",
       "      <td>Productivity</td>\n",
       "      <td>4.240000</td>\n",
       "      <td>875.0</td>\n",
       "      <td>100,000+</td>\n",
       "      <td>100000.0</td>\n",
       "      <td>True</td>\n",
       "      <td>0.0</td>\n",
       "      <td>USD</td>\n",
       "      <td>...</td>\n",
       "      <td>NaN</td>\n",
       "      <td>NaN</td>\n",
       "      <td>NaN</td>\n",
       "      <td>NaN</td>\n",
       "      <td>NaN</td>\n",
       "      <td>NaN</td>\n",
       "      <td>NaN</td>\n",
       "      <td>NaN</td>\n",
       "      <td>NaN</td>\n",
       "      <td>NaN</td>\n",
       "    </tr>\n",
       "    <tr>\n",
       "      <th>450791</th>\n",
       "      <td>Live 4D Wallpaper 2020 : 4K Live Backgrounds</td>\n",
       "      <td>com.fancy.hdwallpaper.parallaxbackgroundhd</td>\n",
       "      <td>Personalization</td>\n",
       "      <td>2.961539</td>\n",
       "      <td>52.0</td>\n",
       "      <td>10,000+</td>\n",
       "      <td>10000.0</td>\n",
       "      <td>True</td>\n",
       "      <td>0.0</td>\n",
       "      <td>USD</td>\n",
       "      <td>...</td>\n",
       "      <td>NaN</td>\n",
       "      <td>NaN</td>\n",
       "      <td>NaN</td>\n",
       "      <td>NaN</td>\n",
       "      <td>NaN</td>\n",
       "      <td>NaN</td>\n",
       "      <td>NaN</td>\n",
       "      <td>NaN</td>\n",
       "      <td>NaN</td>\n",
       "      <td>NaN</td>\n",
       "    </tr>\n",
       "    <tr>\n",
       "      <th>450792</th>\n",
       "      <td>Rap Music Maker : Rap Beats Music Recording St...</td>\n",
       "      <td>com.fancy.rapmusicmakerstudio</td>\n",
       "      <td>Music &amp; Audio</td>\n",
       "      <td>3.500000</td>\n",
       "      <td>64.0</td>\n",
       "      <td>10,000+</td>\n",
       "      <td>10000.0</td>\n",
       "      <td>True</td>\n",
       "      <td>0.0</td>\n",
       "      <td>USD</td>\n",
       "      <td>...</td>\n",
       "      <td>NaN</td>\n",
       "      <td>NaN</td>\n",
       "      <td>NaN</td>\n",
       "      <td>NaN</td>\n",
       "      <td>NaN</td>\n",
       "      <td>NaN</td>\n",
       "      <td>NaN</td>\n",
       "      <td>NaN</td>\n",
       "      <td>NaN</td>\n",
       "      <td>NaN</td>\n",
       "    </tr>\n",
       "    <tr>\n",
       "      <th>450793</th>\n",
       "      <td>Meetz - Cloud Meetings and Classes</td>\n",
       "      <td>org.ssz.meet</td>\n",
       "      <td>Communication</td>\n",
       "      <td>NaN</td>\n",
       "      <td>NaN</td>\n",
       "      <td>5,000+</td>\n",
       "      <td>5000.0</td>\n",
       "      <td>True</td>\n",
       "      <td>0.0</td>\n",
       "      <td>USD</td>\n",
       "      <td>...</td>\n",
       "      <td>NaN</td>\n",
       "      <td>NaN</td>\n",
       "      <td>NaN</td>\n",
       "      <td>NaN</td>\n",
       "      <td>NaN</td>\n",
       "      <td>NaN</td>\n",
       "      <td>NaN</td>\n",
       "      <td>NaN</td>\n",
       "      <td>NaN</td>\n",
       "      <td>NaN</td>\n",
       "    </tr>\n",
       "    <tr>\n",
       "      <th>450794</th>\n",
       "      <td>SWACU Mobile</td>\n",
       "      <td>com.southwest.mobile</td>\n",
       "      <td>Finance</td>\n",
       "      <td>2.860000</td>\n",
       "      <td>150.0</td>\n",
       "      <td>10,000+</td>\n",
       "      <td>10000.0</td>\n",
       "      <td>True</td>\n",
       "      <td>0.0</td>\n",
       "      <td>USD</td>\n",
       "      <td>...</td>\n",
       "      <td>NaN</td>\n",
       "      <td>NaN</td>\n",
       "      <td>NaN</td>\n",
       "      <td>NaN</td>\n",
       "      <td>NaN</td>\n",
       "      <td>NaN</td>\n",
       "      <td>NaN</td>\n",
       "      <td>NaN</td>\n",
       "      <td>NaN</td>\n",
       "      <td>NaN</td>\n",
       "    </tr>\n",
       "  </tbody>\n",
       "</table>\n",
       "<p>450795 rows × 57 columns</p>\n",
       "</div>"
      ],
      "text/plain": [
       "                                                 App Name  \\\n",
       "0                                    Logistics Management   \n",
       "1                                 Estados Unidos Noticias   \n",
       "2                                        Dental Assistant   \n",
       "3                                       Medical Assistant   \n",
       "4                                 Business Administration   \n",
       "...                                                   ...   \n",
       "450790                                   Punjabi Keyboard   \n",
       "450791       Live 4D Wallpaper 2020 : 4K Live Backgrounds   \n",
       "450792  Rap Music Maker : Rap Beats Music Recording St...   \n",
       "450793                 Meetz - Cloud Meetings and Classes   \n",
       "450794                                       SWACU Mobile   \n",
       "\n",
       "                                                   App Id          Category  \\\n",
       "0                   com.eniseistudio.logistics_management         Education   \n",
       "1                    com.eniseistudio.news.estados_unidos  News & Magazines   \n",
       "2                       com.eniseistudio.dental_assistant         Education   \n",
       "3               com.eniseistudio.course.medical_assistant         Education   \n",
       "4       com.eniseistudio.majors.course.business_admini...         Education   \n",
       "...                                                   ...               ...   \n",
       "450790                 com.fancy.fontforu.punjabikeyboard      Productivity   \n",
       "450791         com.fancy.hdwallpaper.parallaxbackgroundhd   Personalization   \n",
       "450792                      com.fancy.rapmusicmakerstudio     Music & Audio   \n",
       "450793                                       org.ssz.meet     Communication   \n",
       "450794                               com.southwest.mobile           Finance   \n",
       "\n",
       "          Rating  Rating Count  Installs  Minimum Installs  Free  Price  \\\n",
       "0       4.090909          66.0   10,000+           10000.0  True    0.0   \n",
       "1       4.000000           8.0    1,000+            1000.0  True    0.0   \n",
       "2       3.866667          15.0   10,000+           10000.0  True    0.0   \n",
       "3       4.000000          18.0    5,000+            5000.0  True    0.0   \n",
       "4       4.023256          86.0   50,000+           50000.0  True    0.0   \n",
       "...          ...           ...       ...               ...   ...    ...   \n",
       "450790  4.240000         875.0  100,000+          100000.0  True    0.0   \n",
       "450791  2.961539          52.0   10,000+           10000.0  True    0.0   \n",
       "450792  3.500000          64.0   10,000+           10000.0  True    0.0   \n",
       "450793       NaN           NaN    5,000+            5000.0  True    0.0   \n",
       "450794  2.860000         150.0   10,000+           10000.0  True    0.0   \n",
       "\n",
       "       Currency  ... Unnamed: 47 Unnamed: 48 Unnamed: 49 Unnamed: 50  \\\n",
       "0           USD  ...         NaN         NaN         NaN         NaN   \n",
       "1           USD  ...         NaN         NaN         NaN         NaN   \n",
       "2           USD  ...         NaN         NaN         NaN         NaN   \n",
       "3           USD  ...         NaN         NaN         NaN         NaN   \n",
       "4           USD  ...         NaN         NaN         NaN         NaN   \n",
       "...         ...  ...         ...         ...         ...         ...   \n",
       "450790      USD  ...         NaN         NaN         NaN         NaN   \n",
       "450791      USD  ...         NaN         NaN         NaN         NaN   \n",
       "450792      USD  ...         NaN         NaN         NaN         NaN   \n",
       "450793      USD  ...         NaN         NaN         NaN         NaN   \n",
       "450794      USD  ...         NaN         NaN         NaN         NaN   \n",
       "\n",
       "       Unnamed: 51 Unnamed: 52 Unnamed: 53 Unnamed: 54 Unnamed: 55 Unnamed: 56  \n",
       "0              NaN         NaN         NaN         NaN         NaN         NaN  \n",
       "1              NaN         NaN         NaN         NaN         NaN         NaN  \n",
       "2              NaN         NaN         NaN         NaN         NaN         NaN  \n",
       "3              NaN         NaN         NaN         NaN         NaN         NaN  \n",
       "4              NaN         NaN         NaN         NaN         NaN         NaN  \n",
       "...            ...         ...         ...         ...         ...         ...  \n",
       "450790         NaN         NaN         NaN         NaN         NaN         NaN  \n",
       "450791         NaN         NaN         NaN         NaN         NaN         NaN  \n",
       "450792         NaN         NaN         NaN         NaN         NaN         NaN  \n",
       "450793         NaN         NaN         NaN         NaN         NaN         NaN  \n",
       "450794         NaN         NaN         NaN         NaN         NaN         NaN  \n",
       "\n",
       "[450795 rows x 57 columns]"
      ]
     },
     "execution_count": 2,
     "metadata": {},
     "output_type": "execute_result"
    }
   ],
   "source": [
    "# Read the CSV file with the low_memory parameter set to False\n",
    "df = pd.read_csv('C:/Users/ADMIN/Desktop/Playstore_final.csv', low_memory=False)\n",
    "df"
   ]
  },
  {
   "cell_type": "code",
   "execution_count": 3,
   "id": "eeb034dc",
   "metadata": {},
   "outputs": [
    {
     "data": {
      "text/html": [
       "<div>\n",
       "<style scoped>\n",
       "    .dataframe tbody tr th:only-of-type {\n",
       "        vertical-align: middle;\n",
       "    }\n",
       "\n",
       "    .dataframe tbody tr th {\n",
       "        vertical-align: top;\n",
       "    }\n",
       "\n",
       "    .dataframe thead th {\n",
       "        text-align: right;\n",
       "    }\n",
       "</style>\n",
       "<table border=\"1\" class=\"dataframe\">\n",
       "  <thead>\n",
       "    <tr style=\"text-align: right;\">\n",
       "      <th></th>\n",
       "      <th>App Name</th>\n",
       "      <th>App Id</th>\n",
       "      <th>Category</th>\n",
       "      <th>Rating</th>\n",
       "      <th>Rating Count</th>\n",
       "      <th>Installs</th>\n",
       "      <th>Minimum Installs</th>\n",
       "      <th>Free</th>\n",
       "      <th>Price</th>\n",
       "      <th>Currency</th>\n",
       "      <th>...</th>\n",
       "      <th>Unnamed: 47</th>\n",
       "      <th>Unnamed: 48</th>\n",
       "      <th>Unnamed: 49</th>\n",
       "      <th>Unnamed: 50</th>\n",
       "      <th>Unnamed: 51</th>\n",
       "      <th>Unnamed: 52</th>\n",
       "      <th>Unnamed: 53</th>\n",
       "      <th>Unnamed: 54</th>\n",
       "      <th>Unnamed: 55</th>\n",
       "      <th>Unnamed: 56</th>\n",
       "    </tr>\n",
       "  </thead>\n",
       "  <tbody>\n",
       "    <tr>\n",
       "      <th>0</th>\n",
       "      <td>Logistics Management</td>\n",
       "      <td>com.eniseistudio.logistics_management</td>\n",
       "      <td>Education</td>\n",
       "      <td>4.090909</td>\n",
       "      <td>66.0</td>\n",
       "      <td>10,000+</td>\n",
       "      <td>10000.0</td>\n",
       "      <td>True</td>\n",
       "      <td>0.0</td>\n",
       "      <td>USD</td>\n",
       "      <td>...</td>\n",
       "      <td>NaN</td>\n",
       "      <td>NaN</td>\n",
       "      <td>NaN</td>\n",
       "      <td>NaN</td>\n",
       "      <td>NaN</td>\n",
       "      <td>NaN</td>\n",
       "      <td>NaN</td>\n",
       "      <td>NaN</td>\n",
       "      <td>NaN</td>\n",
       "      <td>NaN</td>\n",
       "    </tr>\n",
       "    <tr>\n",
       "      <th>1</th>\n",
       "      <td>Estados Unidos Noticias</td>\n",
       "      <td>com.eniseistudio.news.estados_unidos</td>\n",
       "      <td>News &amp; Magazines</td>\n",
       "      <td>4.000000</td>\n",
       "      <td>8.0</td>\n",
       "      <td>1,000+</td>\n",
       "      <td>1000.0</td>\n",
       "      <td>True</td>\n",
       "      <td>0.0</td>\n",
       "      <td>USD</td>\n",
       "      <td>...</td>\n",
       "      <td>NaN</td>\n",
       "      <td>NaN</td>\n",
       "      <td>NaN</td>\n",
       "      <td>NaN</td>\n",
       "      <td>NaN</td>\n",
       "      <td>NaN</td>\n",
       "      <td>NaN</td>\n",
       "      <td>NaN</td>\n",
       "      <td>NaN</td>\n",
       "      <td>NaN</td>\n",
       "    </tr>\n",
       "    <tr>\n",
       "      <th>2</th>\n",
       "      <td>Dental Assistant</td>\n",
       "      <td>com.eniseistudio.dental_assistant</td>\n",
       "      <td>Education</td>\n",
       "      <td>3.866667</td>\n",
       "      <td>15.0</td>\n",
       "      <td>10,000+</td>\n",
       "      <td>10000.0</td>\n",
       "      <td>True</td>\n",
       "      <td>0.0</td>\n",
       "      <td>USD</td>\n",
       "      <td>...</td>\n",
       "      <td>NaN</td>\n",
       "      <td>NaN</td>\n",
       "      <td>NaN</td>\n",
       "      <td>NaN</td>\n",
       "      <td>NaN</td>\n",
       "      <td>NaN</td>\n",
       "      <td>NaN</td>\n",
       "      <td>NaN</td>\n",
       "      <td>NaN</td>\n",
       "      <td>NaN</td>\n",
       "    </tr>\n",
       "    <tr>\n",
       "      <th>3</th>\n",
       "      <td>Medical Assistant</td>\n",
       "      <td>com.eniseistudio.course.medical_assistant</td>\n",
       "      <td>Education</td>\n",
       "      <td>4.000000</td>\n",
       "      <td>18.0</td>\n",
       "      <td>5,000+</td>\n",
       "      <td>5000.0</td>\n",
       "      <td>True</td>\n",
       "      <td>0.0</td>\n",
       "      <td>USD</td>\n",
       "      <td>...</td>\n",
       "      <td>NaN</td>\n",
       "      <td>NaN</td>\n",
       "      <td>NaN</td>\n",
       "      <td>NaN</td>\n",
       "      <td>NaN</td>\n",
       "      <td>NaN</td>\n",
       "      <td>NaN</td>\n",
       "      <td>NaN</td>\n",
       "      <td>NaN</td>\n",
       "      <td>NaN</td>\n",
       "    </tr>\n",
       "    <tr>\n",
       "      <th>4</th>\n",
       "      <td>Business Administration</td>\n",
       "      <td>com.eniseistudio.majors.course.business_admini...</td>\n",
       "      <td>Education</td>\n",
       "      <td>4.023256</td>\n",
       "      <td>86.0</td>\n",
       "      <td>50,000+</td>\n",
       "      <td>50000.0</td>\n",
       "      <td>True</td>\n",
       "      <td>0.0</td>\n",
       "      <td>USD</td>\n",
       "      <td>...</td>\n",
       "      <td>NaN</td>\n",
       "      <td>NaN</td>\n",
       "      <td>NaN</td>\n",
       "      <td>NaN</td>\n",
       "      <td>NaN</td>\n",
       "      <td>NaN</td>\n",
       "      <td>NaN</td>\n",
       "      <td>NaN</td>\n",
       "      <td>NaN</td>\n",
       "      <td>NaN</td>\n",
       "    </tr>\n",
       "  </tbody>\n",
       "</table>\n",
       "<p>5 rows × 57 columns</p>\n",
       "</div>"
      ],
      "text/plain": [
       "                  App Name                                             App Id  \\\n",
       "0     Logistics Management              com.eniseistudio.logistics_management   \n",
       "1  Estados Unidos Noticias               com.eniseistudio.news.estados_unidos   \n",
       "2         Dental Assistant                  com.eniseistudio.dental_assistant   \n",
       "3        Medical Assistant          com.eniseistudio.course.medical_assistant   \n",
       "4  Business Administration  com.eniseistudio.majors.course.business_admini...   \n",
       "\n",
       "           Category    Rating  Rating Count Installs  Minimum Installs  Free  \\\n",
       "0         Education  4.090909          66.0  10,000+           10000.0  True   \n",
       "1  News & Magazines  4.000000           8.0   1,000+            1000.0  True   \n",
       "2         Education  3.866667          15.0  10,000+           10000.0  True   \n",
       "3         Education  4.000000          18.0   5,000+            5000.0  True   \n",
       "4         Education  4.023256          86.0  50,000+           50000.0  True   \n",
       "\n",
       "   Price Currency  ... Unnamed: 47 Unnamed: 48 Unnamed: 49 Unnamed: 50  \\\n",
       "0    0.0      USD  ...         NaN         NaN         NaN         NaN   \n",
       "1    0.0      USD  ...         NaN         NaN         NaN         NaN   \n",
       "2    0.0      USD  ...         NaN         NaN         NaN         NaN   \n",
       "3    0.0      USD  ...         NaN         NaN         NaN         NaN   \n",
       "4    0.0      USD  ...         NaN         NaN         NaN         NaN   \n",
       "\n",
       "  Unnamed: 51 Unnamed: 52 Unnamed: 53 Unnamed: 54 Unnamed: 55 Unnamed: 56  \n",
       "0         NaN         NaN         NaN         NaN         NaN         NaN  \n",
       "1         NaN         NaN         NaN         NaN         NaN         NaN  \n",
       "2         NaN         NaN         NaN         NaN         NaN         NaN  \n",
       "3         NaN         NaN         NaN         NaN         NaN         NaN  \n",
       "4         NaN         NaN         NaN         NaN         NaN         NaN  \n",
       "\n",
       "[5 rows x 57 columns]"
      ]
     },
     "execution_count": 3,
     "metadata": {},
     "output_type": "execute_result"
    }
   ],
   "source": [
    "df.head()"
   ]
  },
  {
   "cell_type": "code",
   "execution_count": 4,
   "id": "4e9f40ad",
   "metadata": {},
   "outputs": [
    {
     "data": {
      "text/plain": [
       "App Name                  object\n",
       "App Id                    object\n",
       "Category                  object\n",
       "Rating                   float64\n",
       "Rating Count             float64\n",
       "Installs                  object\n",
       "Minimum Installs         float64\n",
       "Free                      object\n",
       "Price                    float64\n",
       "Currency                  object\n",
       "Size                      object\n",
       "Minimum Android           object\n",
       "Developer Id              object\n",
       "Developer Website         object\n",
       "Developer Email           object\n",
       "Released                  object\n",
       "Last update               object\n",
       "Privacy Policy            object\n",
       "Content Rating            object\n",
       "Ad Supported              object\n",
       "In app purchases            bool\n",
       "Editor Choice               bool\n",
       "Summary                   object\n",
       "Reviews                  float64\n",
       "Android version Text      object\n",
       "Developer                 object\n",
       "Developer Address         object\n",
       "Developer Internal ID    float64\n",
       "Version                   object\n",
       "Unnamed: 29              float64\n",
       "Unnamed: 30              float64\n",
       "Unnamed: 31              float64\n",
       "Unnamed: 32              float64\n",
       "Unnamed: 33              float64\n",
       "Unnamed: 34              float64\n",
       "Unnamed: 35              float64\n",
       "Unnamed: 36              float64\n",
       "Unnamed: 37              float64\n",
       "Unnamed: 38              float64\n",
       "Unnamed: 39              float64\n",
       "Unnamed: 40              float64\n",
       "Unnamed: 41              float64\n",
       "Unnamed: 42              float64\n",
       "Unnamed: 43              float64\n",
       "Unnamed: 44              float64\n",
       "Unnamed: 45              float64\n",
       "Unnamed: 46              float64\n",
       "Unnamed: 47              float64\n",
       "Unnamed: 48              float64\n",
       "Unnamed: 49              float64\n",
       "Unnamed: 50              float64\n",
       "Unnamed: 51              float64\n",
       "Unnamed: 52              float64\n",
       "Unnamed: 53              float64\n",
       "Unnamed: 54              float64\n",
       "Unnamed: 55              float64\n",
       "Unnamed: 56              float64\n",
       "dtype: object"
      ]
     },
     "execution_count": 4,
     "metadata": {},
     "output_type": "execute_result"
    }
   ],
   "source": [
    "df.dtypes "
   ]
  },
  {
   "cell_type": "code",
   "execution_count": 5,
   "id": "57972b8b",
   "metadata": {},
   "outputs": [
    {
     "data": {
      "text/html": [
       "<div>\n",
       "<style scoped>\n",
       "    .dataframe tbody tr th:only-of-type {\n",
       "        vertical-align: middle;\n",
       "    }\n",
       "\n",
       "    .dataframe tbody tr th {\n",
       "        vertical-align: top;\n",
       "    }\n",
       "\n",
       "    .dataframe thead th {\n",
       "        text-align: right;\n",
       "    }\n",
       "</style>\n",
       "<table border=\"1\" class=\"dataframe\">\n",
       "  <thead>\n",
       "    <tr style=\"text-align: right;\">\n",
       "      <th></th>\n",
       "      <th>App Name</th>\n",
       "      <th>App Id</th>\n",
       "      <th>Category</th>\n",
       "      <th>Rating</th>\n",
       "      <th>Rating Count</th>\n",
       "      <th>Installs</th>\n",
       "      <th>Minimum Installs</th>\n",
       "      <th>Free</th>\n",
       "      <th>Price</th>\n",
       "      <th>Currency</th>\n",
       "      <th>...</th>\n",
       "      <th>Ad Supported</th>\n",
       "      <th>In app purchases</th>\n",
       "      <th>Editor Choice</th>\n",
       "      <th>Summary</th>\n",
       "      <th>Reviews</th>\n",
       "      <th>Android version Text</th>\n",
       "      <th>Developer</th>\n",
       "      <th>Developer Address</th>\n",
       "      <th>Developer Internal ID</th>\n",
       "      <th>Version</th>\n",
       "    </tr>\n",
       "  </thead>\n",
       "  <tbody>\n",
       "    <tr>\n",
       "      <th>0</th>\n",
       "      <td>Logistics Management</td>\n",
       "      <td>com.eniseistudio.logistics_management</td>\n",
       "      <td>Education</td>\n",
       "      <td>4.090909</td>\n",
       "      <td>66.0</td>\n",
       "      <td>10,000+</td>\n",
       "      <td>10000.0</td>\n",
       "      <td>True</td>\n",
       "      <td>0.0</td>\n",
       "      <td>USD</td>\n",
       "      <td>...</td>\n",
       "      <td>True</td>\n",
       "      <td>False</td>\n",
       "      <td>False</td>\n",
       "      <td>Leading Online Learning and Training System in...</td>\n",
       "      <td>28.0</td>\n",
       "      <td>4.0 and up</td>\n",
       "      <td>eniseistudio</td>\n",
       "      <td>7115 N Muscatel Ave San Gabriel, CA 91775 Unit...</td>\n",
       "      <td>4.656450e+18</td>\n",
       "      <td>1.1.5</td>\n",
       "    </tr>\n",
       "    <tr>\n",
       "      <th>1</th>\n",
       "      <td>Estados Unidos Noticias</td>\n",
       "      <td>com.eniseistudio.news.estados_unidos</td>\n",
       "      <td>News &amp; Magazines</td>\n",
       "      <td>4.000000</td>\n",
       "      <td>8.0</td>\n",
       "      <td>1,000+</td>\n",
       "      <td>1000.0</td>\n",
       "      <td>True</td>\n",
       "      <td>0.0</td>\n",
       "      <td>USD</td>\n",
       "      <td>...</td>\n",
       "      <td>True</td>\n",
       "      <td>False</td>\n",
       "      <td>False</td>\n",
       "      <td>Top Stories\\r\\nWorld\\r\\nEntertainment\\r\\nSport...</td>\n",
       "      <td>3.0</td>\n",
       "      <td>4.0 and up</td>\n",
       "      <td>eniseistudio</td>\n",
       "      <td>7115 N Muscatel Ave San Gabriel, CA 91775 Unit...</td>\n",
       "      <td>4.656450e+18</td>\n",
       "      <td>1.2.3</td>\n",
       "    </tr>\n",
       "    <tr>\n",
       "      <th>2</th>\n",
       "      <td>Dental Assistant</td>\n",
       "      <td>com.eniseistudio.dental_assistant</td>\n",
       "      <td>Education</td>\n",
       "      <td>3.866667</td>\n",
       "      <td>15.0</td>\n",
       "      <td>10,000+</td>\n",
       "      <td>10000.0</td>\n",
       "      <td>True</td>\n",
       "      <td>0.0</td>\n",
       "      <td>USD</td>\n",
       "      <td>...</td>\n",
       "      <td>True</td>\n",
       "      <td>False</td>\n",
       "      <td>False</td>\n",
       "      <td>Dental Assistant: Study Dental Assistant, Dent...</td>\n",
       "      <td>3.0</td>\n",
       "      <td>4.0 and up</td>\n",
       "      <td>eniseistudio</td>\n",
       "      <td>7115 N Muscatel Ave San Gabriel, CA 91775 Unit...</td>\n",
       "      <td>4.656450e+18</td>\n",
       "      <td>1.1.5</td>\n",
       "    </tr>\n",
       "    <tr>\n",
       "      <th>3</th>\n",
       "      <td>Medical Assistant</td>\n",
       "      <td>com.eniseistudio.course.medical_assistant</td>\n",
       "      <td>Education</td>\n",
       "      <td>4.000000</td>\n",
       "      <td>18.0</td>\n",
       "      <td>5,000+</td>\n",
       "      <td>5000.0</td>\n",
       "      <td>True</td>\n",
       "      <td>0.0</td>\n",
       "      <td>USD</td>\n",
       "      <td>...</td>\n",
       "      <td>True</td>\n",
       "      <td>False</td>\n",
       "      <td>False</td>\n",
       "      <td>Medical Assistant Degree Medical Assistant Job...</td>\n",
       "      <td>7.0</td>\n",
       "      <td>4.0 and up</td>\n",
       "      <td>eniseistudio</td>\n",
       "      <td>7115 N Muscatel Ave San Gabriel, CA 91775 Unit...</td>\n",
       "      <td>4.656450e+18</td>\n",
       "      <td>1.1.4</td>\n",
       "    </tr>\n",
       "    <tr>\n",
       "      <th>4</th>\n",
       "      <td>Business Administration</td>\n",
       "      <td>com.eniseistudio.majors.course.business_admini...</td>\n",
       "      <td>Education</td>\n",
       "      <td>4.023256</td>\n",
       "      <td>86.0</td>\n",
       "      <td>50,000+</td>\n",
       "      <td>50000.0</td>\n",
       "      <td>True</td>\n",
       "      <td>0.0</td>\n",
       "      <td>USD</td>\n",
       "      <td>...</td>\n",
       "      <td>True</td>\n",
       "      <td>False</td>\n",
       "      <td>False</td>\n",
       "      <td>Business Administration Learning, Business Adm...</td>\n",
       "      <td>29.0</td>\n",
       "      <td>4.0 and up</td>\n",
       "      <td>eniseistudio</td>\n",
       "      <td>7115 N Muscatel Ave San Gabriel, CA 91775 Unit...</td>\n",
       "      <td>4.656450e+18</td>\n",
       "      <td>1.1.6</td>\n",
       "    </tr>\n",
       "  </tbody>\n",
       "</table>\n",
       "<p>5 rows × 29 columns</p>\n",
       "</div>"
      ],
      "text/plain": [
       "                  App Name                                             App Id  \\\n",
       "0     Logistics Management              com.eniseistudio.logistics_management   \n",
       "1  Estados Unidos Noticias               com.eniseistudio.news.estados_unidos   \n",
       "2         Dental Assistant                  com.eniseistudio.dental_assistant   \n",
       "3        Medical Assistant          com.eniseistudio.course.medical_assistant   \n",
       "4  Business Administration  com.eniseistudio.majors.course.business_admini...   \n",
       "\n",
       "           Category    Rating  Rating Count Installs  Minimum Installs  Free  \\\n",
       "0         Education  4.090909          66.0  10,000+           10000.0  True   \n",
       "1  News & Magazines  4.000000           8.0   1,000+            1000.0  True   \n",
       "2         Education  3.866667          15.0  10,000+           10000.0  True   \n",
       "3         Education  4.000000          18.0   5,000+            5000.0  True   \n",
       "4         Education  4.023256          86.0  50,000+           50000.0  True   \n",
       "\n",
       "   Price Currency  ... Ad Supported In app purchases Editor Choice  \\\n",
       "0    0.0      USD  ...         True            False         False   \n",
       "1    0.0      USD  ...         True            False         False   \n",
       "2    0.0      USD  ...         True            False         False   \n",
       "3    0.0      USD  ...         True            False         False   \n",
       "4    0.0      USD  ...         True            False         False   \n",
       "\n",
       "                                             Summary Reviews  \\\n",
       "0  Leading Online Learning and Training System in...    28.0   \n",
       "1  Top Stories\\r\\nWorld\\r\\nEntertainment\\r\\nSport...     3.0   \n",
       "2  Dental Assistant: Study Dental Assistant, Dent...     3.0   \n",
       "3  Medical Assistant Degree Medical Assistant Job...     7.0   \n",
       "4  Business Administration Learning, Business Adm...    29.0   \n",
       "\n",
       "  Android version Text     Developer  \\\n",
       "0           4.0 and up  eniseistudio   \n",
       "1           4.0 and up  eniseistudio   \n",
       "2           4.0 and up  eniseistudio   \n",
       "3           4.0 and up  eniseistudio   \n",
       "4           4.0 and up  eniseistudio   \n",
       "\n",
       "                                   Developer Address Developer Internal ID  \\\n",
       "0  7115 N Muscatel Ave San Gabriel, CA 91775 Unit...          4.656450e+18   \n",
       "1  7115 N Muscatel Ave San Gabriel, CA 91775 Unit...          4.656450e+18   \n",
       "2  7115 N Muscatel Ave San Gabriel, CA 91775 Unit...          4.656450e+18   \n",
       "3  7115 N Muscatel Ave San Gabriel, CA 91775 Unit...          4.656450e+18   \n",
       "4  7115 N Muscatel Ave San Gabriel, CA 91775 Unit...          4.656450e+18   \n",
       "\n",
       "  Version  \n",
       "0   1.1.5  \n",
       "1   1.2.3  \n",
       "2   1.1.5  \n",
       "3   1.1.4  \n",
       "4   1.1.6  \n",
       "\n",
       "[5 rows x 29 columns]"
      ]
     },
     "execution_count": 5,
     "metadata": {},
     "output_type": "execute_result"
    }
   ],
   "source": [
    "columns_to_remove = df.columns[29:]\n",
    "df.drop(columns=columns_to_remove, inplace=True)\n",
    "df.head()"
   ]
  },
  {
   "cell_type": "code",
   "execution_count": 6,
   "id": "6cfbf6e1",
   "metadata": {},
   "outputs": [
    {
     "data": {
      "text/plain": [
       "(450795, 29)"
      ]
     },
     "execution_count": 6,
     "metadata": {},
     "output_type": "execute_result"
    }
   ],
   "source": [
    "df.shape"
   ]
  },
  {
   "cell_type": "code",
   "execution_count": 7,
   "id": "a0d6b8c9",
   "metadata": {},
   "outputs": [
    {
     "data": {
      "text/plain": [
       "Index(['App Name', 'App Id', 'Category', 'Rating', 'Rating Count', 'Installs',\n",
       "       'Minimum Installs', 'Free', 'Price', 'Currency', 'Size',\n",
       "       'Minimum Android', 'Developer Id', 'Developer Website',\n",
       "       'Developer Email', 'Released', 'Last update', 'Privacy Policy',\n",
       "       'Content Rating', 'Ad Supported', 'In app purchases', 'Editor Choice',\n",
       "       'Summary', 'Reviews', 'Android version Text', 'Developer',\n",
       "       'Developer Address', 'Developer Internal ID', 'Version'],\n",
       "      dtype='object')"
      ]
     },
     "execution_count": 7,
     "metadata": {},
     "output_type": "execute_result"
    }
   ],
   "source": [
    "df.columns"
   ]
  },
  {
   "cell_type": "code",
   "execution_count": 8,
   "id": "14d8f856",
   "metadata": {},
   "outputs": [],
   "source": [
    "col_required = ['App Name', 'App Id', 'Category', 'Rating', 'Rating Count', 'Installs',\n",
    "                'Free', 'Price', 'Currency', 'Released', 'Content Rating', \n",
    "                'In app purchases', 'Editor Choice', 'Reviews', 'Developer']\n",
    "df = df[col_required]"
   ]
  },
  {
   "cell_type": "code",
   "execution_count": 9,
   "id": "03828d99",
   "metadata": {},
   "outputs": [
    {
     "data": {
      "text/html": [
       "<div>\n",
       "<style scoped>\n",
       "    .dataframe tbody tr th:only-of-type {\n",
       "        vertical-align: middle;\n",
       "    }\n",
       "\n",
       "    .dataframe tbody tr th {\n",
       "        vertical-align: top;\n",
       "    }\n",
       "\n",
       "    .dataframe thead th {\n",
       "        text-align: right;\n",
       "    }\n",
       "</style>\n",
       "<table border=\"1\" class=\"dataframe\">\n",
       "  <thead>\n",
       "    <tr style=\"text-align: right;\">\n",
       "      <th></th>\n",
       "      <th>App Name</th>\n",
       "      <th>App Id</th>\n",
       "      <th>Category</th>\n",
       "      <th>Rating</th>\n",
       "      <th>Rating Count</th>\n",
       "      <th>Installs</th>\n",
       "      <th>Free</th>\n",
       "      <th>Price</th>\n",
       "      <th>Currency</th>\n",
       "      <th>Released</th>\n",
       "      <th>Content Rating</th>\n",
       "      <th>In app purchases</th>\n",
       "      <th>Editor Choice</th>\n",
       "      <th>Reviews</th>\n",
       "      <th>Developer</th>\n",
       "    </tr>\n",
       "  </thead>\n",
       "  <tbody>\n",
       "    <tr>\n",
       "      <th>442302</th>\n",
       "      <td>Creepy Crawly Winter Kingdom</td>\n",
       "      <td>com.aboveground.creepywinter</td>\n",
       "      <td>Puzzle</td>\n",
       "      <td>4.100000</td>\n",
       "      <td>119.0</td>\n",
       "      <td>10,000+</td>\n",
       "      <td>True</td>\n",
       "      <td>0.0</td>\n",
       "      <td>USD</td>\n",
       "      <td>23-Nov-16</td>\n",
       "      <td>Everyone</td>\n",
       "      <td>True</td>\n",
       "      <td>False</td>\n",
       "      <td>35.0</td>\n",
       "      <td>Aboveground Systems, LLC</td>\n",
       "    </tr>\n",
       "    <tr>\n",
       "      <th>314202</th>\n",
       "      <td>Balance Transfer - Mobile Recharge Application</td>\n",
       "      <td>co.balancetransfere</td>\n",
       "      <td>Finance</td>\n",
       "      <td>3.460000</td>\n",
       "      <td>112.0</td>\n",
       "      <td>50,000+</td>\n",
       "      <td>True</td>\n",
       "      <td>0.0</td>\n",
       "      <td>USD</td>\n",
       "      <td>26-Mar-18</td>\n",
       "      <td>Everyone</td>\n",
       "      <td>False</td>\n",
       "      <td>False</td>\n",
       "      <td>38.0</td>\n",
       "      <td>Hvantage Technologies Inc</td>\n",
       "    </tr>\n",
       "    <tr>\n",
       "      <th>299573</th>\n",
       "      <td>AAE Insight Track: Cancun</td>\n",
       "      <td>com.cadmiumcd.insighttrack2016</td>\n",
       "      <td>Education</td>\n",
       "      <td>0.000000</td>\n",
       "      <td>NaN</td>\n",
       "      <td>10+</td>\n",
       "      <td>True</td>\n",
       "      <td>0.0</td>\n",
       "      <td>USD</td>\n",
       "      <td>27-Oct-16</td>\n",
       "      <td>Everyone</td>\n",
       "      <td>False</td>\n",
       "      <td>False</td>\n",
       "      <td>0.0</td>\n",
       "      <td>cadmiumCD</td>\n",
       "    </tr>\n",
       "    <tr>\n",
       "      <th>330207</th>\n",
       "      <td>Lithuanian Keyboard 2020</td>\n",
       "      <td>com.sehnsa.apps.lithuanian.keyboard.apps</td>\n",
       "      <td>Personalization</td>\n",
       "      <td>2.285714</td>\n",
       "      <td>7.0</td>\n",
       "      <td>1,000+</td>\n",
       "      <td>True</td>\n",
       "      <td>0.0</td>\n",
       "      <td>USD</td>\n",
       "      <td>9-Nov-18</td>\n",
       "      <td>Everyone</td>\n",
       "      <td>False</td>\n",
       "      <td>False</td>\n",
       "      <td>4.0</td>\n",
       "      <td>Sehnsa Free Apps</td>\n",
       "    </tr>\n",
       "    <tr>\n",
       "      <th>348617</th>\n",
       "      <td>Cypress Ridge</td>\n",
       "      <td>com.gallusgolf.c397.android.cypressridge</td>\n",
       "      <td>Sports</td>\n",
       "      <td>0.000000</td>\n",
       "      <td>NaN</td>\n",
       "      <td>100+</td>\n",
       "      <td>True</td>\n",
       "      <td>0.0</td>\n",
       "      <td>USD</td>\n",
       "      <td>1-Apr-14</td>\n",
       "      <td>Everyone</td>\n",
       "      <td>False</td>\n",
       "      <td>False</td>\n",
       "      <td>0.0</td>\n",
       "      <td>Gallus Golf</td>\n",
       "    </tr>\n",
       "  </tbody>\n",
       "</table>\n",
       "</div>"
      ],
      "text/plain": [
       "                                              App Name  \\\n",
       "442302                    Creepy Crawly Winter Kingdom   \n",
       "314202  Balance Transfer - Mobile Recharge Application   \n",
       "299573                       AAE Insight Track: Cancun   \n",
       "330207                        Lithuanian Keyboard 2020   \n",
       "348617                                   Cypress Ridge   \n",
       "\n",
       "                                          App Id         Category    Rating  \\\n",
       "442302              com.aboveground.creepywinter           Puzzle  4.100000   \n",
       "314202                       co.balancetransfere          Finance  3.460000   \n",
       "299573            com.cadmiumcd.insighttrack2016        Education  0.000000   \n",
       "330207  com.sehnsa.apps.lithuanian.keyboard.apps  Personalization  2.285714   \n",
       "348617  com.gallusgolf.c397.android.cypressridge           Sports  0.000000   \n",
       "\n",
       "        Rating Count Installs  Free  Price Currency   Released Content Rating  \\\n",
       "442302         119.0  10,000+  True    0.0      USD  23-Nov-16       Everyone   \n",
       "314202         112.0  50,000+  True    0.0      USD  26-Mar-18       Everyone   \n",
       "299573           NaN      10+  True    0.0      USD  27-Oct-16       Everyone   \n",
       "330207           7.0   1,000+  True    0.0      USD   9-Nov-18       Everyone   \n",
       "348617           NaN     100+  True    0.0      USD   1-Apr-14       Everyone   \n",
       "\n",
       "        In app purchases  Editor Choice  Reviews                  Developer  \n",
       "442302              True          False     35.0   Aboveground Systems, LLC  \n",
       "314202             False          False     38.0  Hvantage Technologies Inc  \n",
       "299573             False          False      0.0                  cadmiumCD  \n",
       "330207             False          False      4.0           Sehnsa Free Apps  \n",
       "348617             False          False      0.0                Gallus Golf  "
      ]
     },
     "execution_count": 9,
     "metadata": {},
     "output_type": "execute_result"
    }
   ],
   "source": [
    "df.sample(5)"
   ]
  },
  {
   "cell_type": "code",
   "execution_count": 10,
   "id": "09be8e31",
   "metadata": {},
   "outputs": [
    {
     "data": {
      "text/plain": [
       "Rating Count        118768\n",
       "Released              3447\n",
       "Rating                2812\n",
       "Reviews               2812\n",
       "Free                    92\n",
       "Price                   92\n",
       "Currency                92\n",
       "Installs                91\n",
       "Developer               16\n",
       "App Name                13\n",
       "Category                13\n",
       "Content Rating          13\n",
       "App Id                   0\n",
       "In app purchases         0\n",
       "Editor Choice            0\n",
       "dtype: int64"
      ]
     },
     "execution_count": 10,
     "metadata": {},
     "output_type": "execute_result"
    }
   ],
   "source": [
    "df.isnull().sum().sort_values(ascending = False)"
   ]
  },
  {
   "cell_type": "code",
   "execution_count": 11,
   "id": "f9fcfa12",
   "metadata": {},
   "outputs": [
    {
     "data": {
      "text/plain": [
       "App Name            0\n",
       "App Id              0\n",
       "Category            0\n",
       "Rating              0\n",
       "Rating Count        0\n",
       "Installs            0\n",
       "Free                0\n",
       "Price               0\n",
       "Currency            0\n",
       "Released            0\n",
       "Content Rating      0\n",
       "In app purchases    0\n",
       "Editor Choice       0\n",
       "Reviews             0\n",
       "Developer           0\n",
       "dtype: int64"
      ]
     },
     "execution_count": 11,
     "metadata": {},
     "output_type": "execute_result"
    }
   ],
   "source": [
    "df.fillna('0',inplace=True)\n",
    "df.isnull().sum().sort_values(ascending = False)\n"
   ]
  },
  {
   "cell_type": "code",
   "execution_count": 12,
   "id": "0dea2538",
   "metadata": {},
   "outputs": [
    {
     "data": {
      "text/plain": [
       "array(['19-Jul-17', '5-May-17', '18-Jul-17', ..., '10-Jun-10',\n",
       "       '21-May-10', '15-Jun-21'], dtype=object)"
      ]
     },
     "execution_count": 12,
     "metadata": {},
     "output_type": "execute_result"
    }
   ],
   "source": [
    "df['Released'].unique()"
   ]
  },
  {
   "cell_type": "code",
   "execution_count": 13,
   "id": "2b922197",
   "metadata": {},
   "outputs": [],
   "source": [
    "df['Released'] = df['Released'].fillna('Unknown')\n",
    "df['Released'] = pd.to_datetime(df['Released'], format='%d-%b-%y', errors='coerce')\n",
    "\n"
   ]
  },
  {
   "cell_type": "code",
   "execution_count": 14,
   "id": "c9427eb8",
   "metadata": {},
   "outputs": [
    {
     "data": {
      "text/plain": [
       "0         2017\n",
       "1         2017\n",
       "2         2017\n",
       "3         2017\n",
       "4         2017\n",
       "          ... \n",
       "450789    2015\n",
       "450790    2015\n",
       "450791    2020\n",
       "450792    2020\n",
       "450794    2018\n",
       "Name: Year, Length: 435464, dtype: int32"
      ]
     },
     "execution_count": 14,
     "metadata": {},
     "output_type": "execute_result"
    }
   ],
   "source": [
    "df['Year'] = df['Released'].dt.year\n",
    "df = df.dropna(subset=['Year'])\n",
    "df['Year'] = df['Year'].astype(int)\n",
    "df['Year']\n"
   ]
  },
  {
   "cell_type": "code",
   "execution_count": 15,
   "id": "ed6968b1",
   "metadata": {},
   "outputs": [
    {
     "name": "stdout",
     "output_type": "stream",
     "text": [
      "2020    89824\n",
      "2019    82594\n",
      "2018    65501\n",
      "2017    55119\n",
      "2016    40921\n",
      "2015    30463\n",
      "2014    23013\n",
      "2013    15162\n",
      "2021    13959\n",
      "2012    10244\n",
      "2011     6266\n",
      "2010     2398\n",
      "Name: Year, dtype: int64\n"
     ]
    }
   ],
   "source": [
    "year_count = df['Year'].value_counts()\n",
    "print(year_count)\n"
   ]
  },
  {
   "cell_type": "code",
   "execution_count": 16,
   "id": "698e4a2a",
   "metadata": {},
   "outputs": [
    {
     "data": {
      "text/plain": [
       "Text(0.5, 0, 'Year')"
      ]
     },
     "execution_count": 16,
     "metadata": {},
     "output_type": "execute_result"
    },
    {
     "data": {
      "image/png": "[encoded data removed]",
      "text/plain": [
       "<Figure size 640x480 with 1 Axes>"
      ]
     },
     "metadata": {},
     "output_type": "display_data"
    }
   ],
   "source": [
    "# Count the number of movies released in each year\n",
    "year_count = df['Released'].dt.year.value_counts()\n",
    "\n",
    "# Plot the count of movies released in each year using seaborn countplot\n",
    "sns.countplot(x=df['Released'].dt.year, data=df, order=year_count.index)\n",
    "\n",
    "# Set the x-label to 'Year'\n",
    "plt.xlabel('Year')\n"
   ]
  },
  {
   "cell_type": "code",
   "execution_count": 17,
   "id": "0070c4b7",
   "metadata": {},
   "outputs": [
    {
     "name": "stdout",
     "output_type": "stream",
     "text": [
      "                                         App Name  Rating\n",
      "85372                                    Soulbite     5.0\n",
      "412179             Moon Wolf Songs Live Wallpaper     5.0\n",
      "149176                    FAB Corporate E-Banking     5.0\n",
      "149173                Fireflies 3D Live Wallpaper     5.0\n",
      "310932                            PJs BARBER SHOP     5.0\n",
      "149165  Magic One Ring Parallax 3D Live Wallpaper     5.0\n",
      "412161                    Easter Sunday Greetings     5.0\n",
      "194437          ABC Match - Spelling with Objects     5.0\n",
      "149150            Hex Particles 3D Live Wallpaper     5.0\n",
      "149134                       Gyro Solar System 3D     5.0\n"
     ]
    }
   ],
   "source": [
    "df['Rating'] = df['Rating'].replace('', float('nan')).astype(float)\n",
    "top_rated_apps = df.sort_values('Rating', ascending=False).iloc[:10][['App Name', 'Rating']]\n",
    "print(top_rated_apps)\n"
   ]
  },
  {
   "cell_type": "code",
   "execution_count": 18,
   "id": "e52e32f5",
   "metadata": {},
   "outputs": [
    {
     "data": {
      "image/png": "[encoded data removed]",
      "text/plain": [
       "<Figure size 640x480 with 1 Axes>"
      ]
     },
     "metadata": {},
     "output_type": "display_data"
    }
   ],
   "source": [
    "# Set the palette\n",
    "sns.set_palette(\"flare\")\n",
    "\n",
    "# Create the bar plot\n",
    "sns.barplot(x=\"Rating\", y=\"App Name\", data=top_rated_apps)\n",
    "\n",
    "# Set the title and axis labels\n",
    "plt.title(\"Top 10 Rated Apps\")\n",
    "plt.xlabel(\"Rating\")\n",
    "plt.ylabel(\"App Name\")\n",
    "\n",
    "# Show the plot\n",
    "plt.show()\n"
   ]
  },
  {
   "cell_type": "code",
   "execution_count": 19,
   "id": "091d7a9a",
   "metadata": {},
   "outputs": [
    {
     "data": {
      "text/plain": [
       "array([True, False, '0'], dtype=object)"
      ]
     },
     "execution_count": 19,
     "metadata": {},
     "output_type": "execute_result"
    }
   ],
   "source": [
    "df['Free'].unique()"
   ]
  },
  {
   "cell_type": "code",
   "execution_count": 20,
   "id": "9c69ea51",
   "metadata": {},
   "outputs": [],
   "source": [
    "df['Free'] = df['Free'].replace({True: 1, False: 2})\n"
   ]
  },
  {
   "cell_type": "code",
   "execution_count": 21,
   "id": "af326116",
   "metadata": {},
   "outputs": [
    {
     "data": {
      "text/plain": [
       "array([1, 2, '0'], dtype=object)"
      ]
     },
     "execution_count": 21,
     "metadata": {},
     "output_type": "execute_result"
    }
   ],
   "source": [
    "df['Free'].unique()"
   ]
  },
  {
   "cell_type": "code",
   "execution_count": 22,
   "id": "ca9ba7de",
   "metadata": {},
   "outputs": [
    {
     "data": {
      "text/plain": [
       "1    408463\n",
       "2     27000\n",
       "0         1\n",
       "Name: Free, dtype: int64"
      ]
     },
     "execution_count": 22,
     "metadata": {},
     "output_type": "execute_result"
    }
   ],
   "source": [
    "free_counts = df['Free'].value_counts()\n",
    "free_counts"
   ]
  },
  {
   "cell_type": "code",
   "execution_count": 23,
   "id": "76e9b397",
   "metadata": {},
   "outputs": [
    {
     "data": {
      "text/plain": [
       "<Axes: >"
      ]
     },
     "execution_count": 23,
     "metadata": {},
     "output_type": "execute_result"
    },
    {
     "data": {
      "image/png": "[encoded data removed]",
      "text/plain": [
       "<Figure size 640x480 with 1 Axes>"
      ]
     },
     "metadata": {},
     "output_type": "display_data"
    }
   ],
   "source": [
    "sns.barplot(x=free_counts.index, y=free_counts.values)\n"
   ]
  },
  {
   "cell_type": "code",
   "execution_count": 24,
   "id": "7c76ae5e",
   "metadata": {},
   "outputs": [
    {
     "data": {
      "text/plain": [
       "array([False,  True])"
      ]
     },
     "execution_count": 24,
     "metadata": {},
     "output_type": "execute_result"
    }
   ],
   "source": [
    "df['In app purchases'].unique()"
   ]
  },
  {
   "cell_type": "code",
   "execution_count": 25,
   "id": "44ba02e9",
   "metadata": {
    "scrolled": true
   },
   "outputs": [
    {
     "data": {
      "text/plain": [
       "array([2, 1], dtype=int64)"
      ]
     },
     "execution_count": 25,
     "metadata": {},
     "output_type": "execute_result"
    }
   ],
   "source": [
    "#df['In app purchases'] = df['In app purchases'].replace({'True': 0, 'False': 1})\n",
    "df['In app purchases'] = df['In app purchases'].replace({True: 1, False: 2})\n",
    "df['In app purchases'].unique()\n"
   ]
  },
  {
   "cell_type": "code",
   "execution_count": 26,
   "id": "4f18b196",
   "metadata": {},
   "outputs": [
    {
     "data": {
      "text/plain": [
       "<Axes: xlabel='In app purchases', ylabel='count'>"
      ]
     },
     "execution_count": 26,
     "metadata": {},
     "output_type": "execute_result"
    },
    {
     "data": {
      "image/png": "[encoded data removed]",
      "text/plain": [
       "<Figure size 640x480 with 1 Axes>"
      ]
     },
     "metadata": {},
     "output_type": "display_data"
    }
   ],
   "source": [
    "sns.set(style=\"darkgrid\")\n",
    "sns.countplot(x=\"In app purchases\", data=df)\n",
    "\n"
   ]
  },
  {
   "cell_type": "code",
   "execution_count": 27,
   "id": "973bfeec",
   "metadata": {},
   "outputs": [],
   "source": [
    "# Replace boolean values with 1/2\n",
    "df['Editor Choice'] = df['Editor Choice'].replace({True: 1, False: 2})\n"
   ]
  },
  {
   "cell_type": "code",
   "execution_count": 28,
   "id": "3cd96a40",
   "metadata": {},
   "outputs": [
    {
     "name": "stdout",
     "output_type": "stream",
     "text": [
      "2    434751\n",
      "1       713\n",
      "Name: Editor Choice, dtype: int64\n"
     ]
    }
   ],
   "source": [
    "# Count the number of games with and without Editor's Choice\n",
    "editor_choice_count = df['Editor Choice'].value_counts()\n",
    "print(editor_choice_count)\n"
   ]
  },
  {
   "cell_type": "code",
   "execution_count": 29,
   "id": "49ea84d7",
   "metadata": {},
   "outputs": [
    {
     "data": {
      "text/plain": [
       "<Axes: >"
      ]
     },
     "execution_count": 29,
     "metadata": {},
     "output_type": "execute_result"
    },
    {
     "data": {
      "image/png": "[encoded data removed]",
      "text/plain": [
       "<Figure size 640x480 with 1 Axes>"
      ]
     },
     "metadata": {},
     "output_type": "display_data"
    }
   ],
   "source": [
    "#editor_choice_count = df['Editor Choice'].value_counts()\n",
    "#sns.barplot(x=editor_choice_count.index, y=editor_choice_count.values)\n",
    "\n",
    "\n",
    "editor_choice_count = df['Editor Choice'].value_counts()\n",
    "sns.barplot(x=editor_choice_count.values, y=editor_choice_count.index, orient='h')\n"
   ]
  },
  {
   "cell_type": "code",
   "execution_count": 30,
   "id": "598b47a4",
   "metadata": {},
   "outputs": [
    {
     "name": "stdout",
     "output_type": "stream",
     "text": [
      "Everyone           372279\n",
      "Teen                39793\n",
      "Mature 17+          13144\n",
      "Everyone 10+        10207\n",
      "Adults only 18+        28\n",
      "Unrated                13\n",
      "Name: Content Rating, dtype: int64\n"
     ]
    }
   ],
   "source": [
    "content_rating_count = df['Content Rating'].value_counts()\n",
    "print(content_rating_count)\n"
   ]
  },
  {
   "cell_type": "code",
   "execution_count": 31,
   "id": "82703287",
   "metadata": {},
   "outputs": [
    {
     "data": {
      "text/plain": [
       "<Axes: xlabel='count', ylabel='Content Rating'>"
      ]
     },
     "execution_count": 31,
     "metadata": {},
     "output_type": "execute_result"
    },
    {
     "data": {
      "image/png": "[encoded data removed]",
      "text/plain": [
       "<Figure size 640x480 with 1 Axes>"
      ]
     },
     "metadata": {},
     "output_type": "display_data"
    }
   ],
   "source": [
    "sns.countplot(y='Content Rating', data=df)\n"
   ]
  },
  {
   "cell_type": "code",
   "execution_count": 32,
   "id": "d0e69e74",
   "metadata": {},
   "outputs": [
    {
     "data": {
      "text/plain": [
       "array([0.0, 6.49, 2.99, 3.99, 3.49, 0.99, 1.99, 4.99, 10.99, 5.49, 1.49,\n",
       "       5.99, 2.49, 24.99, 5.0, 10.0, 6.99, 7.49, 174.99, 5.29, 1.2, 22.99,\n",
       "       3.0, 12.99, 13.99, 18.99, 1.18, 1.0, 14.99, 9.99, 8.99, 7.99,\n",
       "       109.99, 19.99, 4.49, 2.84, 2.88, 2.65, 3.01, 33.99, 89.99, 1.6,\n",
       "       9.49, 1.09, 8.0, 4.0, 100.0, 6.04, 2.19, 11.99, 4.29, 16.99, 25.99,\n",
       "       13.55, 1.08, 2.9, 19.95, 4.89, 20.99, 29.99, 27.99, 17.99, 15.99,\n",
       "       1.15, 59.99, 79.99, 23.99, 3.69, 35.99, 164.99, 8.49, 3.9, 36.99,\n",
       "       9.23, 4.75, 17.84, 2.29, 2.5, 6.0, 1.67, 1.8, 389.99, 2.93, 2.53,\n",
       "       1.74, 249.99, 99.99, 54.99, 26.99, 1.92, 28.99, 21.99, 1.06, 1.05,\n",
       "       1.29, 94.99, 2.42, 2.23, 27.5, 1.75, 139.99, 3.11, 37.99, 38.99,\n",
       "       2.34, 7.21, 4.9, 1.98, 2.72, 1.95, 1.51, 2.45, 1.5, 10.88, 42.99,\n",
       "       1.39, 1.03, 1.07, 1.25, 5.46, 49.99, 2.95, 4.84, 34.99, 74.99,\n",
       "       2.73, 64.99, 69.99, 3.75, 3.39, 1.3, 1.22, 1.79, 1.19, 3.5, 1.69,\n",
       "       2.0, 162.99, 1.52, 1.37, 399.99, 379.99, '0', 30.42, 13.6, 4.69,\n",
       "       2.28, 41.99, 349.99, 2.85, 1.34, 2.79, 1.35, 1.45, 3.24, 45.99,\n",
       "       9.95, 1.84, 3.29, 2.31, 8.28, 24.001071, 3.59, 69.0, 12.49, 49.0,\n",
       "       39.99, 2.89, 12.35, 12.19, 11.45, 40.99, 5.079014, 1.85, 1.1, 20.0,\n",
       "       1.01, 4.98, 1.63, 1.04, 1.94, 91.35, 25.27, 5.48, 400.0, 30.99,\n",
       "       199.99, 1.42, 32.99, 5.36, 31.99, 2.59, 44.99, 13.53, 6.77, 4.48,\n",
       "       119.99, 1.77, 1.32, 1.11, 2.02, 1.91, 1.33, 1.72, 9.9, 2.8, 1.59,\n",
       "       19.98, 8.4, 1.13, 3.72, 3.95, 129.99, 1.81, 2.3, 114.99, 5.85,\n",
       "       2.37, 31.69, 4.848701, 149.99, 6.606355, 3.97, 2.97, 1.7, 14.9,\n",
       "       1.944655, 2.77, 3.05, 4.86, 1.86, 5.63, 29.95, 2.13, 104.99, 8.9,\n",
       "       4.5, 7.79, 1.93, 3.38, 2.41, 2.09, 34.25, 12.0, 2.39, 338.99, 18.0,\n",
       "       3.17, 2.06, 3.45, 5.31, 3.8, 13.12, 2.2, 39.79, 3.44, 11.9, 6.73,\n",
       "       3.74, 4.04, 1.27, 5.97, 47.99, 2.7, 15.0, 11.0, 12.5, 3.98, 3.85,\n",
       "       1.26, 2.91, 4.85, 2.94, 5.64, 5.65, 5.66, 9.72, 9.0, 49.19, 26.39,\n",
       "       77.99, 191.99, 56.39, 233.99, 51.59, 48.8, 25.19, 45.55, 44.77,\n",
       "       46.4, 20.39, 42.71, 34.79, 65.38, 57.59, 47.77, 43.19, 44.05,\n",
       "       46.29, 40.79, 39.59, 53.44, 54.54, 44.98, 29.48, 84.99, 21.6,\n",
       "       53.52, 41.82, 56.62, 53.45, 55.77, 42.66, 53.81, 49.6, 143.99,\n",
       "       54.82, 56.48, 32.39, 46.3, 48.75, 56.9, 71.99, 50.28, 1.16, 4.95,\n",
       "       16.54, 4.17, 29.0, 1.97, 36.001606, 7.9, 6.9, 2.61, 67.5, 1.931923,\n",
       "       1.89, 2.86, 7.89, 1.28, 7.13, 5.2, 5.62, 4.77, 8.15, 1.4, 1.12,\n",
       "       5.61, 2.4, 1.02, 339.99, 214.99, 16.22, 7.33, 2.64, 1.48, 1.58,\n",
       "       7.34, 2.43, 3.608315, 1.73, 8.5, 7.0, 43.99, 26.42, 3.84, 1.56,\n",
       "       1.46, 4.33, 4.42, 9.85, 1.78, 2.27, 3.86, 2.35, 3.82, 0.684268,\n",
       "       19.0, 21.0, 2.303133, 2.363741, 2.060698, 2.78, 3.62, 9.6, 2.58,\n",
       "       2.33, 2.46, 2.26, 6.98, 7.01, 7.58, 7.55, 89.0, 7.81, 3.79,\n",
       "       1.567891, 329.99, 12.91, 4.62, 134.99, 4.25, 2.25, 5.95, 10.75,\n",
       "       2.11, 2.55, 2.82, 2.69, 5.56, 7.77, 2.98, 3.48, 1.88, 2.21, 2.75,\n",
       "       1.87, 1.36, 2.1, 6.72, 244.99, 3.89, 1.66, 1.55, 1.68, 1.65, 1.64,\n",
       "       1.57, 4.45, 48.99, 36.0, 3.3, 1.54, 264.99, 3.54, 169.99, 124.99,\n",
       "       1.23, 2.08, 1.9, 19.9, 7.06, 3.67, 1.38, 8.37, 99.9, 5.42, 3.25,\n",
       "       3.33, 2.76, 1.168354, 5.33, 4.3, 3.1, 1.41, 2.54, 2.52, 1.47,\n",
       "       46.99, 3.13, 2.44, 2.01, 1.96, 2.24], dtype=object)"
      ]
     },
     "execution_count": 32,
     "metadata": {},
     "output_type": "execute_result"
    }
   ],
   "source": [
    "df['Price'].unique()"
   ]
  },
  {
   "cell_type": "code",
   "execution_count": 33,
   "id": "e21f3036",
   "metadata": {},
   "outputs": [],
   "source": [
    "# Convert the 'Price' column to a numeric type as some in str\n",
    "df['Price'] = pd.to_numeric(df['Price'], errors='coerce')"
   ]
  },
  {
   "cell_type": "code",
   "execution_count": 34,
   "id": "39e6b1a4",
   "metadata": {},
   "outputs": [
    {
     "name": "stdout",
     "output_type": "stream",
     "text": [
      "Percentage of paid apps: 6.20%\n"
     ]
    }
   ],
   "source": [
    "paid_apps = df[df['Price']>0]\n",
    "paid_apps_count = paid_apps.shape[0]\n",
    "total_apps_count = df.shape[0]\n",
    "paid_apps_percent = (paid_apps_count / total_apps_count) * 100\n",
    "print(f\"Percentage of paid apps: {paid_apps_percent:.2f}%\")\n"
   ]
  },
  {
   "cell_type": "code",
   "execution_count": 35,
   "id": "5293a7cb",
   "metadata": {},
   "outputs": [
    {
     "data": {
      "text/plain": [
       "Category\n",
       "Action                      5.963154\n",
       "Adventure                  13.218850\n",
       "Arcade                      5.544933\n",
       "Art & Design                3.582338\n",
       "Auto & Vehicles             6.567392\n",
       "Beauty                      0.344432\n",
       "Board                       8.316700\n",
       "Books & Reference           5.808124\n",
       "Business                    2.314405\n",
       "Card                        5.986696\n",
       "Casino                      3.059581\n",
       "Casual                      3.804773\n",
       "Comics                      5.643994\n",
       "Communication               3.876869\n",
       "Dating                      1.062092\n",
       "Education                   8.424635\n",
       "Educational                11.486599\n",
       "Entertainment               3.432781\n",
       "Events                      0.259965\n",
       "Finance                     3.132421\n",
       "Food & Drink                1.277785\n",
       "Health & Fitness            5.585165\n",
       "House & Home                1.800412\n",
       "Libraries & Demo            2.564103\n",
       "Lifestyle                   3.893544\n",
       "Maps & Navigation           7.059836\n",
       "Medical                    15.971536\n",
       "Music                      11.332008\n",
       "Music & Audio               3.473945\n",
       "News & Magazines            0.671224\n",
       "Parenting                   5.745721\n",
       "Personalization            14.583333\n",
       "Photography                 4.435873\n",
       "Productivity                7.544902\n",
       "Puzzle                      5.867561\n",
       "Racing                      3.562945\n",
       "Role Playing               11.679537\n",
       "Shopping                    0.678101\n",
       "Simulation                  5.193435\n",
       "Social                      1.477131\n",
       "Sports                      8.786697\n",
       "Strategy                   15.261044\n",
       "Tools                       7.151567\n",
       "Travel & Local              5.162653\n",
       "Trivia                      3.502470\n",
       "Video Players & Editors     4.658824\n",
       "Weather                     5.501761\n",
       "Word                        5.435182\n",
       "Name: Category, dtype: float64"
      ]
     },
     "execution_count": 35,
     "metadata": {},
     "output_type": "execute_result"
    }
   ],
   "source": [
    "# Calculate the percentage of paid apps by category\n",
    "paid_apps_count = paid_apps.groupby('Category')['Category'].count()\n",
    "total_apps_count = df.groupby('Category')['Category'].count()\n",
    "paid_apps_percentage = (paid_apps_count / total_apps_count) * 100\n",
    "paid_apps_percentage"
   ]
  },
  {
   "cell_type": "code",
   "execution_count": 36,
   "id": "c50109be",
   "metadata": {},
   "outputs": [
    {
     "name": "stdout",
     "output_type": "stream",
     "text": [
      "Category                 Free\n",
      "Action                   1       5819\n",
      "                         2        369\n",
      "Adventure                1       4346\n",
      "                         2        662\n",
      "Arcade                   1       7410\n",
      "                                 ... \n",
      "Video Players & Editors  2        198\n",
      "Weather                  1       2147\n",
      "                         2        125\n",
      "Word                     1       2575\n",
      "                         2        148\n",
      "Name: App Name, Length: 97, dtype: int64\n"
     ]
    }
   ],
   "source": [
    "# Group the DataFrame by category and type, and count the number of apps in each group\n",
    "app_counts = df.groupby(['Category', 'Free'])['App Name'].count()\n",
    "\n",
    "# Print the result\n",
    "print(app_counts)\n"
   ]
  },
  {
   "cell_type": "code",
   "execution_count": 37,
   "id": "e817615f",
   "metadata": {},
   "outputs": [
    {
     "name": "stdout",
     "output_type": "stream",
     "text": [
      "Category\n",
      "Education            41707\n",
      "Tools                30458\n",
      "Books & Reference    27245\n",
      "Music & Audio        26841\n",
      "Personalization      24969\n",
      "Name: App Name, dtype: int64\n",
      "Category\n",
      "Personalization      4263\n",
      "Education            3837\n",
      "Tools                2346\n",
      "Books & Reference    1680\n",
      "Productivity         1067\n",
      "Name: App Name, dtype: int64\n"
     ]
    }
   ],
   "source": [
    "# Group the apps by category and type, and count the number of apps\n",
    "app_counts = df.groupby(['Category', 'Free'])['App Name'].count()\n",
    "\n",
    "# Get the top 5 categories with the highest number of free apps\n",
    "top_free_categories = app_counts.loc[:, 1].nlargest(5)\n",
    "print(top_free_categories)\n",
    "\n",
    "# Get the top 5 categories with the highest number of paid apps\n",
    "top_paid_categories = app_counts.loc[:, 2].nlargest(5)\n",
    "print(top_paid_categories)\n"
   ]
  },
  {
   "cell_type": "code",
   "execution_count": 38,
   "id": "ceff1864",
   "metadata": {},
   "outputs": [
    {
     "data": {
      "text/html": [
       "<div>\n",
       "<style scoped>\n",
       "    .dataframe tbody tr th:only-of-type {\n",
       "        vertical-align: middle;\n",
       "    }\n",
       "\n",
       "    .dataframe tbody tr th {\n",
       "        vertical-align: top;\n",
       "    }\n",
       "\n",
       "    .dataframe thead th {\n",
       "        text-align: right;\n",
       "    }\n",
       "</style>\n",
       "<table border=\"1\" class=\"dataframe\">\n",
       "  <thead>\n",
       "    <tr style=\"text-align: right;\">\n",
       "      <th></th>\n",
       "      <th>Free</th>\n",
       "      <th>Paid</th>\n",
       "    </tr>\n",
       "    <tr>\n",
       "      <th>Category</th>\n",
       "      <th></th>\n",
       "      <th></th>\n",
       "    </tr>\n",
       "  </thead>\n",
       "  <tbody>\n",
       "    <tr>\n",
       "      <th>Education</th>\n",
       "      <td>41707.0</td>\n",
       "      <td>3837.0</td>\n",
       "    </tr>\n",
       "    <tr>\n",
       "      <th>Tools</th>\n",
       "      <td>30458.0</td>\n",
       "      <td>2346.0</td>\n",
       "    </tr>\n",
       "    <tr>\n",
       "      <th>Books &amp; Reference</th>\n",
       "      <td>27245.0</td>\n",
       "      <td>1680.0</td>\n",
       "    </tr>\n",
       "    <tr>\n",
       "      <th>Music &amp; Audio</th>\n",
       "      <td>26841.0</td>\n",
       "      <td>NaN</td>\n",
       "    </tr>\n",
       "    <tr>\n",
       "      <th>Personalization</th>\n",
       "      <td>24969.0</td>\n",
       "      <td>4263.0</td>\n",
       "    </tr>\n",
       "    <tr>\n",
       "      <th>Productivity</th>\n",
       "      <td>NaN</td>\n",
       "      <td>1067.0</td>\n",
       "    </tr>\n",
       "  </tbody>\n",
       "</table>\n",
       "</div>"
      ],
      "text/plain": [
       "                      Free    Paid\n",
       "Category                          \n",
       "Education          41707.0  3837.0\n",
       "Tools              30458.0  2346.0\n",
       "Books & Reference  27245.0  1680.0\n",
       "Music & Audio      26841.0     NaN\n",
       "Personalization    24969.0  4263.0\n",
       "Productivity           NaN  1067.0"
      ]
     },
     "execution_count": 38,
     "metadata": {},
     "output_type": "execute_result"
    }
   ],
   "source": [
    "# Combine the two series into a single dataframe\n",
    "df_top_categories = pd.concat([top_free_categories, top_paid_categories], axis=1)\n",
    "df_top_categories.columns = ['Free', 'Paid']\n",
    "df_top_categories"
   ]
  },
  {
   "cell_type": "code",
   "execution_count": 39,
   "id": "bfbd4696",
   "metadata": {},
   "outputs": [
    {
     "data": {
      "image/png": "[encoded data removed]",
      "text/plain": [
       "<Figure size 1000x600 with 1 Axes>"
      ]
     },
     "metadata": {},
     "output_type": "display_data"
    }
   ],
   "source": [
    "sns.set_style('whitegrid')\n",
    "fig, ax = plt.subplots(figsize=(10, 6))\n",
    "ax.set_facecolor('black')\n",
    "ax = df_top_categories.plot(kind='barh', stacked=True, ax=ax)\n",
    "ax.set_xlabel('Number of Apps')\n",
    "ax.set_title('Top Categories with the Highest Number of Free and Paid Apps')\n",
    "plt.show()"
   ]
  },
  {
   "cell_type": "code",
   "execution_count": 40,
   "id": "8349abda",
   "metadata": {},
   "outputs": [
    {
     "name": "stdout",
     "output_type": "stream",
     "text": [
      "Category\n",
      "Action                      3.351057\n",
      "Adventure                   4.386208\n",
      "Arcade                      2.827011\n",
      "Art & Design                6.299302\n",
      "Auto & Vehicles             5.106105\n",
      "Beauty                      3.490000\n",
      "Board                       5.793520\n",
      "Books & Reference           7.111140\n",
      "Business                   10.472596\n",
      "Card                        3.825309\n",
      "Casino                      2.963684\n",
      "Casual                      2.814473\n",
      "Comics                      3.292564\n",
      "Communication               3.484532\n",
      "Dating                     37.336154\n",
      "Education                   5.845429\n",
      "Educational                 3.870667\n",
      "Entertainment               4.569379\n",
      "Events                      2.990000\n",
      "Finance                    10.061913\n",
      "Food & Drink                3.604688\n",
      "Health & Fitness            5.859318\n",
      "House & Home                4.132857\n",
      "Libraries & Demo            5.965667\n",
      "Lifestyle                   5.619339\n",
      "Maps & Navigation           6.070244\n",
      "Medical                    19.737974\n",
      "Music                       1.998860\n",
      "Music & Audio               4.758344\n",
      "News & Magazines            3.145185\n",
      "Parenting                   2.805532\n",
      "Personalization             1.721509\n",
      "Photography                 4.018978\n",
      "Productivity                5.429897\n",
      "Puzzle                      4.323831\n",
      "Racing                      2.080250\n",
      "Role Playing                4.967872\n",
      "Shopping                   10.568824\n",
      "Simulation                  3.327652\n",
      "Social                      2.749157\n",
      "Sports                      7.237442\n",
      "Strategy                    4.466523\n",
      "Tools                       3.912336\n",
      "Travel & Local              4.520800\n",
      "Trivia                      4.863718\n",
      "Video Players & Editors     4.414192\n",
      "Weather                     5.880320\n",
      "Word                        2.252500\n",
      "Name: Price, dtype: float64\n"
     ]
    }
   ],
   "source": [
    "# Filter out paid apps\n",
    "paid_apps = df[df['Free'] == 2]\n",
    "\n",
    "# Calculate the average price of paid apps by category\n",
    "avg_price_by_category = paid_apps.groupby('Category')['Price'].mean()\n",
    "\n",
    "# Print the result\n",
    "print(avg_price_by_category)\n"
   ]
  },
  {
   "cell_type": "code",
   "execution_count": 41,
   "id": "62d6205b",
   "metadata": {},
   "outputs": [
    {
     "data": {
      "image/png": "[encoded data removed]",
      "text/plain": [
       "<Figure size 1500x800 with 1 Axes>"
      ]
     },
     "metadata": {},
     "output_type": "display_data"
    }
   ],
   "source": [
    "plt.figure(figsize=(15, 8))\n",
    "sns.barplot(x=avg_price_by_category, y=avg_price_by_category.index)\n",
    "plt.xlabel('Average Price')\n",
    "plt.ylabel('Category')\n",
    "plt.title('Average Price of Paid Apps by Category')\n",
    "plt.show()\n"
   ]
  }
 ],
 "metadata": {
  "kernelspec": {
   "display_name": "Python 3 (ipykernel)",
   "language": "python",
   "name": "python3"
  },
  "language_info": {
   "codemirror_mode": {
    "name": "ipython",
    "version": 3
   },
   "file_extension": ".py",
   "mimetype": "text/x-python",
   "name": "python",
   "nbconvert_exporter": "python",
   "pygments_lexer": "ipython3",
   "version": "3.10.9"
  }
 },
 "nbformat": 4,
 "nbformat_minor": 5
}
